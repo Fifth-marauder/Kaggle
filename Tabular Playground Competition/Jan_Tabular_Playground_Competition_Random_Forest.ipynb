{
  "nbformat": 4,
  "nbformat_minor": 0,
  "metadata": {
    "accelerator": "GPU",
    "colab": {
      "name": "Jan Tabular Playground Competition- Random Forest.ipynb",
      "provenance": [],
      "collapsed_sections": []
    },
    "kernelspec": {
      "display_name": "Python 3",
      "name": "python3"
    }
  },
  "cells": [
    {
      "cell_type": "code",
      "metadata": {
        "colab": {
          "resources": {
            "http://localhost:8080/nbextensions/google.colab/files.js": {
              "data": "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",
              "headers": [
                [
                  "content-type",
                  "application/javascript"
                ]
              ],
              "ok": true,
              "status": 200,
              "status_text": ""
            }
          },
          "base_uri": "https://localhost:8080/",
          "height": 89
        },
        "id": "FH6SINIOhQGG",
        "outputId": "7a430ce4-4ea9-4b79-a337-3b3c7375a60c"
      },
      "source": [
        "from google.colab import files\r\n",
        "files.upload()"
      ],
      "execution_count": null,
      "outputs": [
        {
          "output_type": "display_data",
          "data": {
            "text/html": [
              "\n",
              "     <input type=\"file\" id=\"files-8cf190f1-00d3-411b-9564-3c424105cd35\" name=\"files[]\" multiple disabled\n",
              "        style=\"border:none\" />\n",
              "     <output id=\"result-8cf190f1-00d3-411b-9564-3c424105cd35\">\n",
              "      Upload widget is only available when the cell has been executed in the\n",
              "      current browser session. Please rerun this cell to enable.\n",
              "      </output>\n",
              "      <script src=\"/nbextensions/google.colab/files.js\"></script> "
            ],
            "text/plain": [
              "<IPython.core.display.HTML object>"
            ]
          },
          "metadata": {
            "tags": []
          }
        },
        {
          "output_type": "stream",
          "text": [
            "Saving kaggle.json to kaggle.json\n"
          ],
          "name": "stdout"
        },
        {
          "output_type": "execute_result",
          "data": {
            "text/plain": [
              "{'kaggle.json': b'{\"username\":\"anuvarshini98\",\"key\":\"0c1621206d15c49de511192782db8fcc\"}'}"
            ]
          },
          "metadata": {
            "tags": []
          },
          "execution_count": 1
        }
      ]
    },
    {
      "cell_type": "code",
      "metadata": {
        "id": "3htuv7-thrn0"
      },
      "source": [
        "!mkdir -p ~/.kaggle/ && mv kaggle.json ~/.kaggle/ && chmod 600 ~/.kaggle/kaggle.json"
      ],
      "execution_count": null,
      "outputs": []
    },
    {
      "cell_type": "code",
      "metadata": {
        "colab": {
          "base_uri": "https://localhost:8080/"
        },
        "id": "TY1Eow8Lh0RM",
        "outputId": "42f9976a-b39f-40e3-a4b8-af5185150fa1"
      },
      "source": [
        "!pip install --upgrade --force-reinstall --no-deps kaggle"
      ],
      "execution_count": null,
      "outputs": [
        {
          "output_type": "stream",
          "text": [
            "Processing /root/.cache/pip/wheels/3a/d1/7e/6ce09b72b770149802c653a02783821629146983ee5a360f10/kaggle-1.5.10-cp36-none-any.whl\n",
            "Installing collected packages: kaggle\n",
            "  Found existing installation: kaggle 1.5.10\n",
            "    Uninstalling kaggle-1.5.10:\n",
            "      Successfully uninstalled kaggle-1.5.10\n",
            "Successfully installed kaggle-1.5.10\n"
          ],
          "name": "stdout"
        }
      ]
    },
    {
      "cell_type": "code",
      "metadata": {
        "colab": {
          "base_uri": "https://localhost:8080/"
        },
        "id": "mUeT5V_Rh3AP",
        "outputId": "ce5f5165-6b31-46d1-e0a1-7ee38bd3bc1b"
      },
      "source": [
        "!kaggle competitions download -c tabular-playground-series-jan-2021"
      ],
      "execution_count": null,
      "outputs": [
        {
          "output_type": "stream",
          "text": [
            "tabular-playground-series-jan-2021.zip: Skipping, found more recently modified local copy (use --force to force download)\n"
          ],
          "name": "stdout"
        }
      ]
    },
    {
      "cell_type": "code",
      "metadata": {
        "id": "FYAQEfAciGcO"
      },
      "source": [
        "import zipfile\r\n",
        "with zipfile.ZipFile('/content/tabular-playground-series-jan-2021.zip', 'r') as zip_ref:\r\n",
        "    zip_ref.extractall('/content/')"
      ],
      "execution_count": null,
      "outputs": []
    },
    {
      "cell_type": "code",
      "metadata": {
        "id": "DTeTQpdki2CL"
      },
      "source": [
        "import pandas as pd\r\n",
        "import numpy as np\r\n"
      ],
      "execution_count": null,
      "outputs": []
    },
    {
      "cell_type": "code",
      "metadata": {
        "id": "sg7-0lF0iV-w"
      },
      "source": [
        "train = pd.read_csv(\"/content/train.csv\")\r\n",
        "test = pd.read_csv(\"/content/test.csv\")"
      ],
      "execution_count": null,
      "outputs": []
    },
    {
      "cell_type": "code",
      "metadata": {
        "colab": {
          "base_uri": "https://localhost:8080/",
          "height": 565
        },
        "id": "X3ITBLwJUPos",
        "outputId": "d1e29bd5-db67-479f-83ef-020828e366c2"
      },
      "source": [
        "train.corr()"
      ],
      "execution_count": null,
      "outputs": [
        {
          "output_type": "execute_result",
          "data": {
            "text/html": [
              "<div>\n",
              "<style scoped>\n",
              "    .dataframe tbody tr th:only-of-type {\n",
              "        vertical-align: middle;\n",
              "    }\n",
              "\n",
              "    .dataframe tbody tr th {\n",
              "        vertical-align: top;\n",
              "    }\n",
              "\n",
              "    .dataframe thead th {\n",
              "        text-align: right;\n",
              "    }\n",
              "</style>\n",
              "<table border=\"1\" class=\"dataframe\">\n",
              "  <thead>\n",
              "    <tr style=\"text-align: right;\">\n",
              "      <th></th>\n",
              "      <th>id</th>\n",
              "      <th>cont1</th>\n",
              "      <th>cont2</th>\n",
              "      <th>cont3</th>\n",
              "      <th>cont4</th>\n",
              "      <th>cont5</th>\n",
              "      <th>cont6</th>\n",
              "      <th>cont7</th>\n",
              "      <th>cont8</th>\n",
              "      <th>cont9</th>\n",
              "      <th>cont10</th>\n",
              "      <th>cont11</th>\n",
              "      <th>cont12</th>\n",
              "      <th>cont13</th>\n",
              "      <th>cont14</th>\n",
              "      <th>target</th>\n",
              "    </tr>\n",
              "  </thead>\n",
              "  <tbody>\n",
              "    <tr>\n",
              "      <th>id</th>\n",
              "      <td>1.000000</td>\n",
              "      <td>-0.001454</td>\n",
              "      <td>0.000574</td>\n",
              "      <td>0.001609</td>\n",
              "      <td>0.002131</td>\n",
              "      <td>0.001959</td>\n",
              "      <td>-0.001971</td>\n",
              "      <td>-0.000155</td>\n",
              "      <td>0.002112</td>\n",
              "      <td>0.000030</td>\n",
              "      <td>-0.001652</td>\n",
              "      <td>-0.000484</td>\n",
              "      <td>-0.002075</td>\n",
              "      <td>-0.000577</td>\n",
              "      <td>0.001940</td>\n",
              "      <td>0.001347</td>\n",
              "    </tr>\n",
              "    <tr>\n",
              "      <th>cont1</th>\n",
              "      <td>-0.001454</td>\n",
              "      <td>1.000000</td>\n",
              "      <td>-0.080170</td>\n",
              "      <td>-0.419712</td>\n",
              "      <td>0.273705</td>\n",
              "      <td>-0.059012</td>\n",
              "      <td>0.698556</td>\n",
              "      <td>0.341478</td>\n",
              "      <td>0.373340</td>\n",
              "      <td>0.794003</td>\n",
              "      <td>0.725040</td>\n",
              "      <td>0.565717</td>\n",
              "      <td>0.600041</td>\n",
              "      <td>0.570382</td>\n",
              "      <td>0.067294</td>\n",
              "      <td>-0.032994</td>\n",
              "    </tr>\n",
              "    <tr>\n",
              "      <th>cont2</th>\n",
              "      <td>0.000574</td>\n",
              "      <td>-0.080170</td>\n",
              "      <td>1.000000</td>\n",
              "      <td>0.334487</td>\n",
              "      <td>-0.005533</td>\n",
              "      <td>0.150737</td>\n",
              "      <td>0.023692</td>\n",
              "      <td>0.116222</td>\n",
              "      <td>0.081049</td>\n",
              "      <td>-0.046769</td>\n",
              "      <td>0.035101</td>\n",
              "      <td>0.126024</td>\n",
              "      <td>0.092642</td>\n",
              "      <td>0.017383</td>\n",
              "      <td>0.023972</td>\n",
              "      <td>0.067102</td>\n",
              "    </tr>\n",
              "    <tr>\n",
              "      <th>cont3</th>\n",
              "      <td>0.001609</td>\n",
              "      <td>-0.419712</td>\n",
              "      <td>0.334487</td>\n",
              "      <td>1.000000</td>\n",
              "      <td>-0.329131</td>\n",
              "      <td>0.060931</td>\n",
              "      <td>-0.300509</td>\n",
              "      <td>0.106904</td>\n",
              "      <td>-0.309783</td>\n",
              "      <td>-0.406743</td>\n",
              "      <td>-0.289756</td>\n",
              "      <td>-0.075415</td>\n",
              "      <td>-0.103735</td>\n",
              "      <td>-0.386521</td>\n",
              "      <td>-0.065457</td>\n",
              "      <td>0.058936</td>\n",
              "    </tr>\n",
              "    <tr>\n",
              "      <th>cont4</th>\n",
              "      <td>0.002131</td>\n",
              "      <td>0.273705</td>\n",
              "      <td>-0.005533</td>\n",
              "      <td>-0.329131</td>\n",
              "      <td>1.000000</td>\n",
              "      <td>0.123526</td>\n",
              "      <td>0.152752</td>\n",
              "      <td>-0.077045</td>\n",
              "      <td>0.324784</td>\n",
              "      <td>0.261927</td>\n",
              "      <td>0.204139</td>\n",
              "      <td>0.063961</td>\n",
              "      <td>0.073291</td>\n",
              "      <td>0.155226</td>\n",
              "      <td>0.054703</td>\n",
              "      <td>0.005522</td>\n",
              "    </tr>\n",
              "    <tr>\n",
              "      <th>cont5</th>\n",
              "      <td>0.001959</td>\n",
              "      <td>-0.059012</td>\n",
              "      <td>0.150737</td>\n",
              "      <td>0.060931</td>\n",
              "      <td>0.123526</td>\n",
              "      <td>1.000000</td>\n",
              "      <td>-0.179084</td>\n",
              "      <td>-0.241272</td>\n",
              "      <td>0.010438</td>\n",
              "      <td>-0.071764</td>\n",
              "      <td>-0.102531</td>\n",
              "      <td>-0.222244</td>\n",
              "      <td>-0.192571</td>\n",
              "      <td>-0.140272</td>\n",
              "      <td>0.040552</td>\n",
              "      <td>-0.005358</td>\n",
              "    </tr>\n",
              "    <tr>\n",
              "      <th>cont6</th>\n",
              "      <td>-0.001971</td>\n",
              "      <td>0.698556</td>\n",
              "      <td>0.023692</td>\n",
              "      <td>-0.300509</td>\n",
              "      <td>0.152752</td>\n",
              "      <td>-0.179084</td>\n",
              "      <td>1.000000</td>\n",
              "      <td>0.541975</td>\n",
              "      <td>0.415008</td>\n",
              "      <td>0.716613</td>\n",
              "      <td>0.770628</td>\n",
              "      <td>0.737495</td>\n",
              "      <td>0.757105</td>\n",
              "      <td>0.783604</td>\n",
              "      <td>0.067007</td>\n",
              "      <td>0.027955</td>\n",
              "    </tr>\n",
              "    <tr>\n",
              "      <th>cont7</th>\n",
              "      <td>-0.000155</td>\n",
              "      <td>0.341478</td>\n",
              "      <td>0.116222</td>\n",
              "      <td>0.106904</td>\n",
              "      <td>-0.077045</td>\n",
              "      <td>-0.241272</td>\n",
              "      <td>0.541975</td>\n",
              "      <td>1.000000</td>\n",
              "      <td>0.150403</td>\n",
              "      <td>0.341759</td>\n",
              "      <td>0.465418</td>\n",
              "      <td>0.672188</td>\n",
              "      <td>0.657310</td>\n",
              "      <td>0.322415</td>\n",
              "      <td>-0.037135</td>\n",
              "      <td>0.067234</td>\n",
              "    </tr>\n",
              "    <tr>\n",
              "      <th>cont8</th>\n",
              "      <td>0.002112</td>\n",
              "      <td>0.373340</td>\n",
              "      <td>0.081049</td>\n",
              "      <td>-0.309783</td>\n",
              "      <td>0.324784</td>\n",
              "      <td>0.010438</td>\n",
              "      <td>0.415008</td>\n",
              "      <td>0.150403</td>\n",
              "      <td>1.000000</td>\n",
              "      <td>0.429986</td>\n",
              "      <td>0.362336</td>\n",
              "      <td>0.296598</td>\n",
              "      <td>0.323042</td>\n",
              "      <td>0.475072</td>\n",
              "      <td>0.100645</td>\n",
              "      <td>0.014698</td>\n",
              "    </tr>\n",
              "    <tr>\n",
              "      <th>cont9</th>\n",
              "      <td>0.000030</td>\n",
              "      <td>0.794003</td>\n",
              "      <td>-0.046769</td>\n",
              "      <td>-0.406743</td>\n",
              "      <td>0.261927</td>\n",
              "      <td>-0.071764</td>\n",
              "      <td>0.716613</td>\n",
              "      <td>0.341759</td>\n",
              "      <td>0.429986</td>\n",
              "      <td>1.000000</td>\n",
              "      <td>0.725053</td>\n",
              "      <td>0.575095</td>\n",
              "      <td>0.605091</td>\n",
              "      <td>0.628391</td>\n",
              "      <td>0.081992</td>\n",
              "      <td>-0.013029</td>\n",
              "    </tr>\n",
              "    <tr>\n",
              "      <th>cont10</th>\n",
              "      <td>-0.001652</td>\n",
              "      <td>0.725040</td>\n",
              "      <td>0.035101</td>\n",
              "      <td>-0.289756</td>\n",
              "      <td>0.204139</td>\n",
              "      <td>-0.102531</td>\n",
              "      <td>0.770628</td>\n",
              "      <td>0.465418</td>\n",
              "      <td>0.362336</td>\n",
              "      <td>0.725053</td>\n",
              "      <td>1.000000</td>\n",
              "      <td>0.677570</td>\n",
              "      <td>0.701872</td>\n",
              "      <td>0.650809</td>\n",
              "      <td>0.047727</td>\n",
              "      <td>-0.021143</td>\n",
              "    </tr>\n",
              "    <tr>\n",
              "      <th>cont11</th>\n",
              "      <td>-0.000484</td>\n",
              "      <td>0.565717</td>\n",
              "      <td>0.126024</td>\n",
              "      <td>-0.075415</td>\n",
              "      <td>0.063961</td>\n",
              "      <td>-0.222244</td>\n",
              "      <td>0.737495</td>\n",
              "      <td>0.672188</td>\n",
              "      <td>0.296598</td>\n",
              "      <td>0.575095</td>\n",
              "      <td>0.677570</td>\n",
              "      <td>1.000000</td>\n",
              "      <td>0.825869</td>\n",
              "      <td>0.558546</td>\n",
              "      <td>0.011074</td>\n",
              "      <td>0.050996</td>\n",
              "    </tr>\n",
              "    <tr>\n",
              "      <th>cont12</th>\n",
              "      <td>-0.002075</td>\n",
              "      <td>0.600041</td>\n",
              "      <td>0.092642</td>\n",
              "      <td>-0.103735</td>\n",
              "      <td>0.073291</td>\n",
              "      <td>-0.192571</td>\n",
              "      <td>0.757105</td>\n",
              "      <td>0.657310</td>\n",
              "      <td>0.323042</td>\n",
              "      <td>0.605091</td>\n",
              "      <td>0.701872</td>\n",
              "      <td>0.825869</td>\n",
              "      <td>1.000000</td>\n",
              "      <td>0.565462</td>\n",
              "      <td>0.022697</td>\n",
              "      <td>0.047809</td>\n",
              "    </tr>\n",
              "    <tr>\n",
              "      <th>cont13</th>\n",
              "      <td>-0.000577</td>\n",
              "      <td>0.570382</td>\n",
              "      <td>0.017383</td>\n",
              "      <td>-0.386521</td>\n",
              "      <td>0.155226</td>\n",
              "      <td>-0.140272</td>\n",
              "      <td>0.783604</td>\n",
              "      <td>0.322415</td>\n",
              "      <td>0.475072</td>\n",
              "      <td>0.628391</td>\n",
              "      <td>0.650809</td>\n",
              "      <td>0.558546</td>\n",
              "      <td>0.565462</td>\n",
              "      <td>1.000000</td>\n",
              "      <td>0.103839</td>\n",
              "      <td>-0.006642</td>\n",
              "    </tr>\n",
              "    <tr>\n",
              "      <th>cont14</th>\n",
              "      <td>0.001940</td>\n",
              "      <td>0.067294</td>\n",
              "      <td>0.023972</td>\n",
              "      <td>-0.065457</td>\n",
              "      <td>0.054703</td>\n",
              "      <td>0.040552</td>\n",
              "      <td>0.067007</td>\n",
              "      <td>-0.037135</td>\n",
              "      <td>0.100645</td>\n",
              "      <td>0.081992</td>\n",
              "      <td>0.047727</td>\n",
              "      <td>0.011074</td>\n",
              "      <td>0.022697</td>\n",
              "      <td>0.103839</td>\n",
              "      <td>1.000000</td>\n",
              "      <td>-0.006609</td>\n",
              "    </tr>\n",
              "    <tr>\n",
              "      <th>target</th>\n",
              "      <td>0.001347</td>\n",
              "      <td>-0.032994</td>\n",
              "      <td>0.067102</td>\n",
              "      <td>0.058936</td>\n",
              "      <td>0.005522</td>\n",
              "      <td>-0.005358</td>\n",
              "      <td>0.027955</td>\n",
              "      <td>0.067234</td>\n",
              "      <td>0.014698</td>\n",
              "      <td>-0.013029</td>\n",
              "      <td>-0.021143</td>\n",
              "      <td>0.050996</td>\n",
              "      <td>0.047809</td>\n",
              "      <td>-0.006642</td>\n",
              "      <td>-0.006609</td>\n",
              "      <td>1.000000</td>\n",
              "    </tr>\n",
              "  </tbody>\n",
              "</table>\n",
              "</div>"
            ],
            "text/plain": [
              "              id     cont1     cont2  ...    cont13    cont14    target\n",
              "id      1.000000 -0.001454  0.000574  ... -0.000577  0.001940  0.001347\n",
              "cont1  -0.001454  1.000000 -0.080170  ...  0.570382  0.067294 -0.032994\n",
              "cont2   0.000574 -0.080170  1.000000  ...  0.017383  0.023972  0.067102\n",
              "cont3   0.001609 -0.419712  0.334487  ... -0.386521 -0.065457  0.058936\n",
              "cont4   0.002131  0.273705 -0.005533  ...  0.155226  0.054703  0.005522\n",
              "cont5   0.001959 -0.059012  0.150737  ... -0.140272  0.040552 -0.005358\n",
              "cont6  -0.001971  0.698556  0.023692  ...  0.783604  0.067007  0.027955\n",
              "cont7  -0.000155  0.341478  0.116222  ...  0.322415 -0.037135  0.067234\n",
              "cont8   0.002112  0.373340  0.081049  ...  0.475072  0.100645  0.014698\n",
              "cont9   0.000030  0.794003 -0.046769  ...  0.628391  0.081992 -0.013029\n",
              "cont10 -0.001652  0.725040  0.035101  ...  0.650809  0.047727 -0.021143\n",
              "cont11 -0.000484  0.565717  0.126024  ...  0.558546  0.011074  0.050996\n",
              "cont12 -0.002075  0.600041  0.092642  ...  0.565462  0.022697  0.047809\n",
              "cont13 -0.000577  0.570382  0.017383  ...  1.000000  0.103839 -0.006642\n",
              "cont14  0.001940  0.067294  0.023972  ...  0.103839  1.000000 -0.006609\n",
              "target  0.001347 -0.032994  0.067102  ... -0.006642 -0.006609  1.000000\n",
              "\n",
              "[16 rows x 16 columns]"
            ]
          },
          "metadata": {
            "tags": []
          },
          "execution_count": 8
        }
      ]
    },
    {
      "cell_type": "code",
      "metadata": {
        "id": "thlGboJskp5o"
      },
      "source": [
        "# import seaborn as sns\r\n",
        "# sns.heatmap(data=train,annot=True)\r\n"
      ],
      "execution_count": null,
      "outputs": []
    },
    {
      "cell_type": "code",
      "metadata": {
        "colab": {
          "base_uri": "https://localhost:8080/",
          "height": 534
        },
        "id": "qInvC2qgnDjS",
        "outputId": "2935001a-fcbd-4f89-eef1-156c7d59c099"
      },
      "source": [
        "test.corr()"
      ],
      "execution_count": null,
      "outputs": [
        {
          "output_type": "execute_result",
          "data": {
            "text/html": [
              "<div>\n",
              "<style scoped>\n",
              "    .dataframe tbody tr th:only-of-type {\n",
              "        vertical-align: middle;\n",
              "    }\n",
              "\n",
              "    .dataframe tbody tr th {\n",
              "        vertical-align: top;\n",
              "    }\n",
              "\n",
              "    .dataframe thead th {\n",
              "        text-align: right;\n",
              "    }\n",
              "</style>\n",
              "<table border=\"1\" class=\"dataframe\">\n",
              "  <thead>\n",
              "    <tr style=\"text-align: right;\">\n",
              "      <th></th>\n",
              "      <th>id</th>\n",
              "      <th>cont1</th>\n",
              "      <th>cont2</th>\n",
              "      <th>cont3</th>\n",
              "      <th>cont4</th>\n",
              "      <th>cont5</th>\n",
              "      <th>cont6</th>\n",
              "      <th>cont7</th>\n",
              "      <th>cont8</th>\n",
              "      <th>cont9</th>\n",
              "      <th>cont10</th>\n",
              "      <th>cont11</th>\n",
              "      <th>cont12</th>\n",
              "      <th>cont13</th>\n",
              "      <th>cont14</th>\n",
              "    </tr>\n",
              "  </thead>\n",
              "  <tbody>\n",
              "    <tr>\n",
              "      <th>id</th>\n",
              "      <td>1.000000</td>\n",
              "      <td>-0.000289</td>\n",
              "      <td>-0.001904</td>\n",
              "      <td>-0.002049</td>\n",
              "      <td>0.000376</td>\n",
              "      <td>-0.000547</td>\n",
              "      <td>0.001051</td>\n",
              "      <td>0.001209</td>\n",
              "      <td>-0.002334</td>\n",
              "      <td>0.000257</td>\n",
              "      <td>-0.000232</td>\n",
              "      <td>0.000825</td>\n",
              "      <td>0.000881</td>\n",
              "      <td>-0.000188</td>\n",
              "      <td>0.004007</td>\n",
              "    </tr>\n",
              "    <tr>\n",
              "      <th>cont1</th>\n",
              "      <td>-0.000289</td>\n",
              "      <td>1.000000</td>\n",
              "      <td>-0.082585</td>\n",
              "      <td>-0.417495</td>\n",
              "      <td>0.275307</td>\n",
              "      <td>-0.056399</td>\n",
              "      <td>0.698535</td>\n",
              "      <td>0.341539</td>\n",
              "      <td>0.370877</td>\n",
              "      <td>0.793909</td>\n",
              "      <td>0.724957</td>\n",
              "      <td>0.566559</td>\n",
              "      <td>0.599909</td>\n",
              "      <td>0.569962</td>\n",
              "      <td>0.068938</td>\n",
              "    </tr>\n",
              "    <tr>\n",
              "      <th>cont2</th>\n",
              "      <td>-0.001904</td>\n",
              "      <td>-0.082585</td>\n",
              "      <td>1.000000</td>\n",
              "      <td>0.337509</td>\n",
              "      <td>-0.003650</td>\n",
              "      <td>0.147901</td>\n",
              "      <td>0.024034</td>\n",
              "      <td>0.118991</td>\n",
              "      <td>0.077611</td>\n",
              "      <td>-0.051245</td>\n",
              "      <td>0.032237</td>\n",
              "      <td>0.125221</td>\n",
              "      <td>0.088824</td>\n",
              "      <td>0.012948</td>\n",
              "      <td>0.020571</td>\n",
              "    </tr>\n",
              "    <tr>\n",
              "      <th>cont3</th>\n",
              "      <td>-0.002049</td>\n",
              "      <td>-0.417495</td>\n",
              "      <td>0.337509</td>\n",
              "      <td>1.000000</td>\n",
              "      <td>-0.328906</td>\n",
              "      <td>0.061926</td>\n",
              "      <td>-0.301686</td>\n",
              "      <td>0.108083</td>\n",
              "      <td>-0.312742</td>\n",
              "      <td>-0.406330</td>\n",
              "      <td>-0.289800</td>\n",
              "      <td>-0.076862</td>\n",
              "      <td>-0.101536</td>\n",
              "      <td>-0.387538</td>\n",
              "      <td>-0.071835</td>\n",
              "    </tr>\n",
              "    <tr>\n",
              "      <th>cont4</th>\n",
              "      <td>0.000376</td>\n",
              "      <td>0.275307</td>\n",
              "      <td>-0.003650</td>\n",
              "      <td>-0.328906</td>\n",
              "      <td>1.000000</td>\n",
              "      <td>0.123700</td>\n",
              "      <td>0.158096</td>\n",
              "      <td>-0.072328</td>\n",
              "      <td>0.328802</td>\n",
              "      <td>0.263973</td>\n",
              "      <td>0.210388</td>\n",
              "      <td>0.070052</td>\n",
              "      <td>0.076264</td>\n",
              "      <td>0.158964</td>\n",
              "      <td>0.064129</td>\n",
              "    </tr>\n",
              "    <tr>\n",
              "      <th>cont5</th>\n",
              "      <td>-0.000547</td>\n",
              "      <td>-0.056399</td>\n",
              "      <td>0.147901</td>\n",
              "      <td>0.061926</td>\n",
              "      <td>0.123700</td>\n",
              "      <td>1.000000</td>\n",
              "      <td>-0.175872</td>\n",
              "      <td>-0.239742</td>\n",
              "      <td>0.009990</td>\n",
              "      <td>-0.069171</td>\n",
              "      <td>-0.099167</td>\n",
              "      <td>-0.219625</td>\n",
              "      <td>-0.189577</td>\n",
              "      <td>-0.140487</td>\n",
              "      <td>0.039636</td>\n",
              "    </tr>\n",
              "    <tr>\n",
              "      <th>cont6</th>\n",
              "      <td>0.001051</td>\n",
              "      <td>0.698535</td>\n",
              "      <td>0.024034</td>\n",
              "      <td>-0.301686</td>\n",
              "      <td>0.158096</td>\n",
              "      <td>-0.175872</td>\n",
              "      <td>1.000000</td>\n",
              "      <td>0.540750</td>\n",
              "      <td>0.417206</td>\n",
              "      <td>0.716890</td>\n",
              "      <td>0.772616</td>\n",
              "      <td>0.737613</td>\n",
              "      <td>0.756266</td>\n",
              "      <td>0.785525</td>\n",
              "      <td>0.066742</td>\n",
              "    </tr>\n",
              "    <tr>\n",
              "      <th>cont7</th>\n",
              "      <td>0.001209</td>\n",
              "      <td>0.341539</td>\n",
              "      <td>0.118991</td>\n",
              "      <td>0.108083</td>\n",
              "      <td>-0.072328</td>\n",
              "      <td>-0.239742</td>\n",
              "      <td>0.540750</td>\n",
              "      <td>1.000000</td>\n",
              "      <td>0.150361</td>\n",
              "      <td>0.339620</td>\n",
              "      <td>0.466699</td>\n",
              "      <td>0.670411</td>\n",
              "      <td>0.657032</td>\n",
              "      <td>0.323273</td>\n",
              "      <td>-0.041715</td>\n",
              "    </tr>\n",
              "    <tr>\n",
              "      <th>cont8</th>\n",
              "      <td>-0.002334</td>\n",
              "      <td>0.370877</td>\n",
              "      <td>0.077611</td>\n",
              "      <td>-0.312742</td>\n",
              "      <td>0.328802</td>\n",
              "      <td>0.009990</td>\n",
              "      <td>0.417206</td>\n",
              "      <td>0.150361</td>\n",
              "      <td>1.000000</td>\n",
              "      <td>0.429640</td>\n",
              "      <td>0.362047</td>\n",
              "      <td>0.298477</td>\n",
              "      <td>0.321714</td>\n",
              "      <td>0.474232</td>\n",
              "      <td>0.101910</td>\n",
              "    </tr>\n",
              "    <tr>\n",
              "      <th>cont9</th>\n",
              "      <td>0.000257</td>\n",
              "      <td>0.793909</td>\n",
              "      <td>-0.051245</td>\n",
              "      <td>-0.406330</td>\n",
              "      <td>0.263973</td>\n",
              "      <td>-0.069171</td>\n",
              "      <td>0.716890</td>\n",
              "      <td>0.339620</td>\n",
              "      <td>0.429640</td>\n",
              "      <td>1.000000</td>\n",
              "      <td>0.726754</td>\n",
              "      <td>0.575068</td>\n",
              "      <td>0.604410</td>\n",
              "      <td>0.628871</td>\n",
              "      <td>0.084988</td>\n",
              "    </tr>\n",
              "    <tr>\n",
              "      <th>cont10</th>\n",
              "      <td>-0.000232</td>\n",
              "      <td>0.724957</td>\n",
              "      <td>0.032237</td>\n",
              "      <td>-0.289800</td>\n",
              "      <td>0.210388</td>\n",
              "      <td>-0.099167</td>\n",
              "      <td>0.772616</td>\n",
              "      <td>0.466699</td>\n",
              "      <td>0.362047</td>\n",
              "      <td>0.726754</td>\n",
              "      <td>1.000000</td>\n",
              "      <td>0.680525</td>\n",
              "      <td>0.702187</td>\n",
              "      <td>0.651329</td>\n",
              "      <td>0.050910</td>\n",
              "    </tr>\n",
              "    <tr>\n",
              "      <th>cont11</th>\n",
              "      <td>0.000825</td>\n",
              "      <td>0.566559</td>\n",
              "      <td>0.125221</td>\n",
              "      <td>-0.076862</td>\n",
              "      <td>0.070052</td>\n",
              "      <td>-0.219625</td>\n",
              "      <td>0.737613</td>\n",
              "      <td>0.670411</td>\n",
              "      <td>0.298477</td>\n",
              "      <td>0.575068</td>\n",
              "      <td>0.680525</td>\n",
              "      <td>1.000000</td>\n",
              "      <td>0.825548</td>\n",
              "      <td>0.559965</td>\n",
              "      <td>0.010638</td>\n",
              "    </tr>\n",
              "    <tr>\n",
              "      <th>cont12</th>\n",
              "      <td>0.000881</td>\n",
              "      <td>0.599909</td>\n",
              "      <td>0.088824</td>\n",
              "      <td>-0.101536</td>\n",
              "      <td>0.076264</td>\n",
              "      <td>-0.189577</td>\n",
              "      <td>0.756266</td>\n",
              "      <td>0.657032</td>\n",
              "      <td>0.321714</td>\n",
              "      <td>0.604410</td>\n",
              "      <td>0.702187</td>\n",
              "      <td>0.825548</td>\n",
              "      <td>1.000000</td>\n",
              "      <td>0.564018</td>\n",
              "      <td>0.019925</td>\n",
              "    </tr>\n",
              "    <tr>\n",
              "      <th>cont13</th>\n",
              "      <td>-0.000188</td>\n",
              "      <td>0.569962</td>\n",
              "      <td>0.012948</td>\n",
              "      <td>-0.387538</td>\n",
              "      <td>0.158964</td>\n",
              "      <td>-0.140487</td>\n",
              "      <td>0.785525</td>\n",
              "      <td>0.323273</td>\n",
              "      <td>0.474232</td>\n",
              "      <td>0.628871</td>\n",
              "      <td>0.651329</td>\n",
              "      <td>0.559965</td>\n",
              "      <td>0.564018</td>\n",
              "      <td>1.000000</td>\n",
              "      <td>0.106501</td>\n",
              "    </tr>\n",
              "    <tr>\n",
              "      <th>cont14</th>\n",
              "      <td>0.004007</td>\n",
              "      <td>0.068938</td>\n",
              "      <td>0.020571</td>\n",
              "      <td>-0.071835</td>\n",
              "      <td>0.064129</td>\n",
              "      <td>0.039636</td>\n",
              "      <td>0.066742</td>\n",
              "      <td>-0.041715</td>\n",
              "      <td>0.101910</td>\n",
              "      <td>0.084988</td>\n",
              "      <td>0.050910</td>\n",
              "      <td>0.010638</td>\n",
              "      <td>0.019925</td>\n",
              "      <td>0.106501</td>\n",
              "      <td>1.000000</td>\n",
              "    </tr>\n",
              "  </tbody>\n",
              "</table>\n",
              "</div>"
            ],
            "text/plain": [
              "              id     cont1     cont2  ...    cont12    cont13    cont14\n",
              "id      1.000000 -0.000289 -0.001904  ...  0.000881 -0.000188  0.004007\n",
              "cont1  -0.000289  1.000000 -0.082585  ...  0.599909  0.569962  0.068938\n",
              "cont2  -0.001904 -0.082585  1.000000  ...  0.088824  0.012948  0.020571\n",
              "cont3  -0.002049 -0.417495  0.337509  ... -0.101536 -0.387538 -0.071835\n",
              "cont4   0.000376  0.275307 -0.003650  ...  0.076264  0.158964  0.064129\n",
              "cont5  -0.000547 -0.056399  0.147901  ... -0.189577 -0.140487  0.039636\n",
              "cont6   0.001051  0.698535  0.024034  ...  0.756266  0.785525  0.066742\n",
              "cont7   0.001209  0.341539  0.118991  ...  0.657032  0.323273 -0.041715\n",
              "cont8  -0.002334  0.370877  0.077611  ...  0.321714  0.474232  0.101910\n",
              "cont9   0.000257  0.793909 -0.051245  ...  0.604410  0.628871  0.084988\n",
              "cont10 -0.000232  0.724957  0.032237  ...  0.702187  0.651329  0.050910\n",
              "cont11  0.000825  0.566559  0.125221  ...  0.825548  0.559965  0.010638\n",
              "cont12  0.000881  0.599909  0.088824  ...  1.000000  0.564018  0.019925\n",
              "cont13 -0.000188  0.569962  0.012948  ...  0.564018  1.000000  0.106501\n",
              "cont14  0.004007  0.068938  0.020571  ...  0.019925  0.106501  1.000000\n",
              "\n",
              "[15 rows x 15 columns]"
            ]
          },
          "metadata": {
            "tags": []
          },
          "execution_count": 10
        }
      ]
    },
    {
      "cell_type": "code",
      "metadata": {
        "id": "CNC5Zw4GlaUp"
      },
      "source": [
        "features=['cont1','cont2','cont3','cont7','cont11','cont12']\r\n",
        "train_f=train[features]\r\n",
        "test_f=test[features]"
      ],
      "execution_count": null,
      "outputs": []
    },
    {
      "cell_type": "code",
      "metadata": {
        "id": "RDNqwFZsizZO"
      },
      "source": [
        "target = train.pop('target')"
      ],
      "execution_count": null,
      "outputs": []
    },
    {
      "cell_type": "code",
      "metadata": {
        "id": "C9I_QkMojIWh"
      },
      "source": [
        "from sklearn.model_selection import train_test_split\r\n",
        "X_train, X_test, y_train, y_test = train_test_split(train_f, target, train_size=0.30)"
      ],
      "execution_count": null,
      "outputs": []
    },
    {
      "cell_type": "code",
      "metadata": {
        "colab": {
          "base_uri": "https://localhost:8080/"
        },
        "id": "iZICcQjtjKgo",
        "outputId": "266c7709-6dc4-4729-802f-e2b21381ee2e"
      },
      "source": [
        "print(X_train.shape)\r\n",
        "print(X_test.shape)"
      ],
      "execution_count": null,
      "outputs": [
        {
          "output_type": "stream",
          "text": [
            "(90000, 6)\n",
            "(210000, 6)\n"
          ],
          "name": "stdout"
        }
      ]
    },
    {
      "cell_type": "code",
      "metadata": {
        "colab": {
          "base_uri": "https://localhost:8080/"
        },
        "id": "6eOEdg0Fjr9L",
        "outputId": "a087422c-f614-412d-9af9-9c9f1de84529"
      },
      "source": [
        "from sklearn.ensemble import RandomForestRegressor\r\n",
        "\r\n",
        "rf=RandomForestRegressor(random_state=42)\r\n",
        "\r\n",
        "from pprint import pprint\r\n",
        "\r\n",
        "print(\"Parameters currently in use\")\r\n",
        "pprint(rf.get_params())"
      ],
      "execution_count": null,
      "outputs": [
        {
          "output_type": "stream",
          "text": [
            "Parameters currently in use\n",
            "{'bootstrap': True,\n",
            " 'ccp_alpha': 0.0,\n",
            " 'criterion': 'mse',\n",
            " 'max_depth': None,\n",
            " 'max_features': 'auto',\n",
            " 'max_leaf_nodes': None,\n",
            " 'max_samples': None,\n",
            " 'min_impurity_decrease': 0.0,\n",
            " 'min_impurity_split': None,\n",
            " 'min_samples_leaf': 1,\n",
            " 'min_samples_split': 2,\n",
            " 'min_weight_fraction_leaf': 0.0,\n",
            " 'n_estimators': 100,\n",
            " 'n_jobs': None,\n",
            " 'oob_score': False,\n",
            " 'random_state': 42,\n",
            " 'verbose': 0,\n",
            " 'warm_start': False}\n"
          ],
          "name": "stdout"
        }
      ]
    },
    {
      "cell_type": "code",
      "metadata": {
        "colab": {
          "base_uri": "https://localhost:8080/"
        },
        "id": "sFxo69QakPPV",
        "outputId": "9bcce937-ed40-4a06-a7f4-23a99870823c"
      },
      "source": [
        "from sklearn.model_selection import RandomizedSearchCV\r\n",
        "\r\n",
        "# Number of trees\r\n",
        "n_estimators=[int(x) for x in np.linspace(100,500,5)]\r\n",
        "\r\n",
        "# Number of features to consider for each split\r\n",
        "max_features=['sqrt','auto']\r\n",
        "\r\n",
        "# Maximum number of levels in a tree\r\n",
        "max_depth=[int(x) for x in np.linspace(10,80,8)]\r\n",
        "max_depth.append(None)\r\n",
        "\r\n",
        "# Minimum number of samples required to split the node\r\n",
        "min_samples_split=[2,5,10]\r\n",
        "\r\n",
        "# Minimum number of sample required at each node\r\n",
        "min_samples_leaf=[1,2,4]\r\n",
        "\r\n",
        "# Method of selecting samples for training each tree\r\n",
        "bootstrap=[True,False]\r\n",
        "\r\n",
        "# Create a random grid\r\n",
        "random_grid={'n_estimators':n_estimators,\r\n",
        "             'max_features':max_features,\r\n",
        "             'max_depth':max_depth,\r\n",
        "             'min_samples_split':min_samples_split,\r\n",
        "             'min_samples_leaf':min_samples_leaf,\r\n",
        "             'bootstrap':bootstrap}\r\n",
        "\r\n",
        "pprint(random_grid)"
      ],
      "execution_count": null,
      "outputs": [
        {
          "output_type": "stream",
          "text": [
            "{'bootstrap': [True, False],\n",
            " 'max_depth': [10, 20, 30, 40, 50, 60, 70, 80, None],\n",
            " 'max_features': ['sqrt', 'auto'],\n",
            " 'min_samples_leaf': [1, 2, 4],\n",
            " 'min_samples_split': [2, 5, 10],\n",
            " 'n_estimators': [100, 200, 300, 400, 500]}\n"
          ],
          "name": "stdout"
        }
      ]
    },
    {
      "cell_type": "code",
      "metadata": {
        "id": "QAdiD5m-mlj_"
      },
      "source": [
        "# Use the random grid to search for best parameters\r\n",
        "# First lets create a base model to tune\r\n",
        "rf=RandomForestRegressor(random_state=42)\r\n",
        "\r\n",
        "# # random search of parameters, cv=3, across 100 diff combinations, using all cores\r\n",
        "rf_random=RandomizedSearchCV(estimator=rf,param_distributions=random_grid,n_iter=20,scoring='neg_mean_absolute_error',cv=3,verbose=2,random_state=42,return_train_score=True)"
      ],
      "execution_count": null,
      "outputs": []
    },
    {
      "cell_type": "code",
      "metadata": {
        "colab": {
          "background_save": true,
          "base_uri": "https://localhost:8080/"
        },
        "id": "zK_fJm6Nnwck",
        "outputId": "98292f7e-700f-4d98-f2f5-040e596fb816"
      },
      "source": [
        "rf_random.fit(X_train,y_train)"
      ],
      "execution_count": null,
      "outputs": [
        {
          "output_type": "stream",
          "text": [
            "Fitting 3 folds for each of 20 candidates, totalling 60 fits\n",
            "[CV] n_estimators=100, min_samples_split=2, min_samples_leaf=1, max_features=auto, max_depth=20, bootstrap=True \n"
          ],
          "name": "stdout"
        },
        {
          "output_type": "stream",
          "text": [
            "[Parallel(n_jobs=1)]: Using backend SequentialBackend with 1 concurrent workers.\n"
          ],
          "name": "stderr"
        },
        {
          "output_type": "stream",
          "text": [
            "[CV]  n_estimators=100, min_samples_split=2, min_samples_leaf=1, max_features=auto, max_depth=20, bootstrap=True, total=  40.6s\n",
            "[CV] n_estimators=100, min_samples_split=2, min_samples_leaf=1, max_features=auto, max_depth=20, bootstrap=True \n"
          ],
          "name": "stdout"
        },
        {
          "output_type": "stream",
          "text": [
            "[Parallel(n_jobs=1)]: Done   1 out of   1 | elapsed:   41.8s remaining:    0.0s\n"
          ],
          "name": "stderr"
        },
        {
          "output_type": "stream",
          "text": [
            "[CV]  n_estimators=100, min_samples_split=2, min_samples_leaf=1, max_features=auto, max_depth=20, bootstrap=True, total=  40.6s\n",
            "[CV] n_estimators=100, min_samples_split=2, min_samples_leaf=1, max_features=auto, max_depth=20, bootstrap=True \n",
            "[CV]  n_estimators=100, min_samples_split=2, min_samples_leaf=1, max_features=auto, max_depth=20, bootstrap=True, total=  40.7s\n",
            "[CV] n_estimators=500, min_samples_split=10, min_samples_leaf=2, max_features=sqrt, max_depth=60, bootstrap=True \n",
            "[CV]  n_estimators=500, min_samples_split=10, min_samples_leaf=2, max_features=sqrt, max_depth=60, bootstrap=True, total= 1.3min\n",
            "[CV] n_estimators=500, min_samples_split=10, min_samples_leaf=2, max_features=sqrt, max_depth=60, bootstrap=True \n",
            "[CV]  n_estimators=500, min_samples_split=10, min_samples_leaf=2, max_features=sqrt, max_depth=60, bootstrap=True, total= 1.3min\n",
            "[CV] n_estimators=500, min_samples_split=10, min_samples_leaf=2, max_features=sqrt, max_depth=60, bootstrap=True \n",
            "[CV]  n_estimators=500, min_samples_split=10, min_samples_leaf=2, max_features=sqrt, max_depth=60, bootstrap=True, total= 1.3min\n",
            "[CV] n_estimators=300, min_samples_split=10, min_samples_leaf=4, max_features=sqrt, max_depth=None, bootstrap=False \n",
            "[CV]  n_estimators=300, min_samples_split=10, min_samples_leaf=4, max_features=sqrt, max_depth=None, bootstrap=False, total= 1.2min\n",
            "[CV] n_estimators=300, min_samples_split=10, min_samples_leaf=4, max_features=sqrt, max_depth=None, bootstrap=False \n",
            "[CV]  n_estimators=300, min_samples_split=10, min_samples_leaf=4, max_features=sqrt, max_depth=None, bootstrap=False, total= 1.2min\n",
            "[CV] n_estimators=300, min_samples_split=10, min_samples_leaf=4, max_features=sqrt, max_depth=None, bootstrap=False \n",
            "[CV]  n_estimators=300, min_samples_split=10, min_samples_leaf=4, max_features=sqrt, max_depth=None, bootstrap=False, total= 1.2min\n",
            "[CV] n_estimators=300, min_samples_split=10, min_samples_leaf=2, max_features=sqrt, max_depth=70, bootstrap=True \n",
            "[CV]  n_estimators=300, min_samples_split=10, min_samples_leaf=2, max_features=sqrt, max_depth=70, bootstrap=True, total=  47.6s\n",
            "[CV] n_estimators=300, min_samples_split=10, min_samples_leaf=2, max_features=sqrt, max_depth=70, bootstrap=True \n",
            "[CV]  n_estimators=300, min_samples_split=10, min_samples_leaf=2, max_features=sqrt, max_depth=70, bootstrap=True, total=  47.6s\n",
            "[CV] n_estimators=300, min_samples_split=10, min_samples_leaf=2, max_features=sqrt, max_depth=70, bootstrap=True \n",
            "[CV]  n_estimators=300, min_samples_split=10, min_samples_leaf=2, max_features=sqrt, max_depth=70, bootstrap=True, total=  47.4s\n",
            "[CV] n_estimators=100, min_samples_split=2, min_samples_leaf=2, max_features=auto, max_depth=None, bootstrap=False \n",
            "[CV]  n_estimators=100, min_samples_split=2, min_samples_leaf=2, max_features=auto, max_depth=None, bootstrap=False, total= 1.2min\n",
            "[CV] n_estimators=100, min_samples_split=2, min_samples_leaf=2, max_features=auto, max_depth=None, bootstrap=False \n",
            "[CV]  n_estimators=100, min_samples_split=2, min_samples_leaf=2, max_features=auto, max_depth=None, bootstrap=False, total= 1.2min\n",
            "[CV] n_estimators=100, min_samples_split=2, min_samples_leaf=2, max_features=auto, max_depth=None, bootstrap=False \n",
            "[CV]  n_estimators=100, min_samples_split=2, min_samples_leaf=2, max_features=auto, max_depth=None, bootstrap=False, total= 1.2min\n",
            "[CV] n_estimators=100, min_samples_split=10, min_samples_leaf=4, max_features=auto, max_depth=40, bootstrap=False \n",
            "[CV]  n_estimators=100, min_samples_split=10, min_samples_leaf=4, max_features=auto, max_depth=40, bootstrap=False, total= 1.1min\n",
            "[CV] n_estimators=100, min_samples_split=10, min_samples_leaf=4, max_features=auto, max_depth=40, bootstrap=False \n",
            "[CV]  n_estimators=100, min_samples_split=10, min_samples_leaf=4, max_features=auto, max_depth=40, bootstrap=False, total= 1.1min\n",
            "[CV] n_estimators=100, min_samples_split=10, min_samples_leaf=4, max_features=auto, max_depth=40, bootstrap=False \n",
            "[CV]  n_estimators=100, min_samples_split=10, min_samples_leaf=4, max_features=auto, max_depth=40, bootstrap=False, total= 1.2min\n",
            "[CV] n_estimators=500, min_samples_split=10, min_samples_leaf=1, max_features=auto, max_depth=None, bootstrap=False \n",
            "[CV]  n_estimators=500, min_samples_split=10, min_samples_leaf=1, max_features=auto, max_depth=None, bootstrap=False, total= 6.1min\n",
            "[CV] n_estimators=500, min_samples_split=10, min_samples_leaf=1, max_features=auto, max_depth=None, bootstrap=False \n",
            "[CV]  n_estimators=500, min_samples_split=10, min_samples_leaf=1, max_features=auto, max_depth=None, bootstrap=False, total= 6.0min\n",
            "[CV] n_estimators=500, min_samples_split=10, min_samples_leaf=1, max_features=auto, max_depth=None, bootstrap=False \n",
            "[CV]  n_estimators=500, min_samples_split=10, min_samples_leaf=1, max_features=auto, max_depth=None, bootstrap=False, total= 6.2min\n",
            "[CV] n_estimators=200, min_samples_split=2, min_samples_leaf=1, max_features=sqrt, max_depth=10, bootstrap=False \n",
            "[CV]  n_estimators=200, min_samples_split=2, min_samples_leaf=1, max_features=sqrt, max_depth=10, bootstrap=False, total=  27.5s\n",
            "[CV] n_estimators=200, min_samples_split=2, min_samples_leaf=1, max_features=sqrt, max_depth=10, bootstrap=False \n",
            "[CV]  n_estimators=200, min_samples_split=2, min_samples_leaf=1, max_features=sqrt, max_depth=10, bootstrap=False, total=  27.5s\n",
            "[CV] n_estimators=200, min_samples_split=2, min_samples_leaf=1, max_features=sqrt, max_depth=10, bootstrap=False \n",
            "[CV]  n_estimators=200, min_samples_split=2, min_samples_leaf=1, max_features=sqrt, max_depth=10, bootstrap=False, total=  27.5s\n",
            "[CV] n_estimators=200, min_samples_split=5, min_samples_leaf=2, max_features=sqrt, max_depth=20, bootstrap=False \n",
            "[CV]  n_estimators=200, min_samples_split=5, min_samples_leaf=2, max_features=sqrt, max_depth=20, bootstrap=False, total=  45.8s\n",
            "[CV] n_estimators=200, min_samples_split=5, min_samples_leaf=2, max_features=sqrt, max_depth=20, bootstrap=False \n",
            "[CV]  n_estimators=200, min_samples_split=5, min_samples_leaf=2, max_features=sqrt, max_depth=20, bootstrap=False, total=  45.6s\n",
            "[CV] n_estimators=200, min_samples_split=5, min_samples_leaf=2, max_features=sqrt, max_depth=20, bootstrap=False \n",
            "[CV]  n_estimators=200, min_samples_split=5, min_samples_leaf=2, max_features=sqrt, max_depth=20, bootstrap=False, total=  45.4s\n",
            "[CV] n_estimators=200, min_samples_split=2, min_samples_leaf=1, max_features=sqrt, max_depth=40, bootstrap=True \n",
            "[CV]  n_estimators=200, min_samples_split=2, min_samples_leaf=1, max_features=sqrt, max_depth=40, bootstrap=True, total=  37.9s\n",
            "[CV] n_estimators=200, min_samples_split=2, min_samples_leaf=1, max_features=sqrt, max_depth=40, bootstrap=True \n",
            "[CV]  n_estimators=200, min_samples_split=2, min_samples_leaf=1, max_features=sqrt, max_depth=40, bootstrap=True, total=  38.1s\n",
            "[CV] n_estimators=200, min_samples_split=2, min_samples_leaf=1, max_features=sqrt, max_depth=40, bootstrap=True \n",
            "[CV]  n_estimators=200, min_samples_split=2, min_samples_leaf=1, max_features=sqrt, max_depth=40, bootstrap=True, total=  37.9s\n",
            "[CV] n_estimators=100, min_samples_split=5, min_samples_leaf=4, max_features=auto, max_depth=70, bootstrap=True \n",
            "[CV]  n_estimators=100, min_samples_split=5, min_samples_leaf=4, max_features=auto, max_depth=70, bootstrap=True, total=  41.8s\n",
            "[CV] n_estimators=100, min_samples_split=5, min_samples_leaf=4, max_features=auto, max_depth=70, bootstrap=True \n",
            "[CV]  n_estimators=100, min_samples_split=5, min_samples_leaf=4, max_features=auto, max_depth=70, bootstrap=True, total=  42.2s\n",
            "[CV] n_estimators=100, min_samples_split=5, min_samples_leaf=4, max_features=auto, max_depth=70, bootstrap=True \n",
            "[CV]  n_estimators=100, min_samples_split=5, min_samples_leaf=4, max_features=auto, max_depth=70, bootstrap=True, total=  42.6s\n",
            "[CV] n_estimators=500, min_samples_split=2, min_samples_leaf=4, max_features=sqrt, max_depth=10, bootstrap=False \n",
            "[CV]  n_estimators=500, min_samples_split=2, min_samples_leaf=4, max_features=sqrt, max_depth=10, bootstrap=False, total= 1.1min\n",
            "[CV] n_estimators=500, min_samples_split=2, min_samples_leaf=4, max_features=sqrt, max_depth=10, bootstrap=False \n",
            "[CV]  n_estimators=500, min_samples_split=2, min_samples_leaf=4, max_features=sqrt, max_depth=10, bootstrap=False, total= 1.1min\n",
            "[CV] n_estimators=500, min_samples_split=2, min_samples_leaf=4, max_features=sqrt, max_depth=10, bootstrap=False \n",
            "[CV]  n_estimators=500, min_samples_split=2, min_samples_leaf=4, max_features=sqrt, max_depth=10, bootstrap=False, total= 1.1min\n",
            "[CV] n_estimators=300, min_samples_split=2, min_samples_leaf=1, max_features=auto, max_depth=80, bootstrap=True \n",
            "[CV]  n_estimators=300, min_samples_split=2, min_samples_leaf=1, max_features=auto, max_depth=80, bootstrap=True, total= 2.5min\n",
            "[CV] n_estimators=300, min_samples_split=2, min_samples_leaf=1, max_features=auto, max_depth=80, bootstrap=True \n",
            "[CV]  n_estimators=300, min_samples_split=2, min_samples_leaf=1, max_features=auto, max_depth=80, bootstrap=True, total= 2.5min\n",
            "[CV] n_estimators=300, min_samples_split=2, min_samples_leaf=1, max_features=auto, max_depth=80, bootstrap=True \n",
            "[CV]  n_estimators=300, min_samples_split=2, min_samples_leaf=1, max_features=auto, max_depth=80, bootstrap=True, total= 2.5min\n",
            "[CV] n_estimators=500, min_samples_split=10, min_samples_leaf=2, max_features=sqrt, max_depth=10, bootstrap=True \n",
            "[CV]  n_estimators=500, min_samples_split=10, min_samples_leaf=2, max_features=sqrt, max_depth=10, bootstrap=True, total=  44.6s\n",
            "[CV] n_estimators=500, min_samples_split=10, min_samples_leaf=2, max_features=sqrt, max_depth=10, bootstrap=True \n",
            "[CV]  n_estimators=500, min_samples_split=10, min_samples_leaf=2, max_features=sqrt, max_depth=10, bootstrap=True, total=  44.6s\n",
            "[CV] n_estimators=500, min_samples_split=10, min_samples_leaf=2, max_features=sqrt, max_depth=10, bootstrap=True \n",
            "[CV]  n_estimators=500, min_samples_split=10, min_samples_leaf=2, max_features=sqrt, max_depth=10, bootstrap=True, total=  45.0s\n",
            "[CV] n_estimators=300, min_samples_split=10, min_samples_leaf=1, max_features=sqrt, max_depth=70, bootstrap=True \n",
            "[CV]  n_estimators=300, min_samples_split=10, min_samples_leaf=1, max_features=sqrt, max_depth=70, bootstrap=True, total=  50.0s\n",
            "[CV] n_estimators=300, min_samples_split=10, min_samples_leaf=1, max_features=sqrt, max_depth=70, bootstrap=True \n",
            "[CV]  n_estimators=300, min_samples_split=10, min_samples_leaf=1, max_features=sqrt, max_depth=70, bootstrap=True, total=  49.8s\n",
            "[CV] n_estimators=300, min_samples_split=10, min_samples_leaf=1, max_features=sqrt, max_depth=70, bootstrap=True \n",
            "[CV]  n_estimators=300, min_samples_split=10, min_samples_leaf=1, max_features=sqrt, max_depth=70, bootstrap=True, total=  50.1s\n",
            "[CV] n_estimators=500, min_samples_split=5, min_samples_leaf=4, max_features=sqrt, max_depth=None, bootstrap=True \n",
            "[CV]  n_estimators=500, min_samples_split=5, min_samples_leaf=4, max_features=sqrt, max_depth=None, bootstrap=True, total= 1.3min\n",
            "[CV] n_estimators=500, min_samples_split=5, min_samples_leaf=4, max_features=sqrt, max_depth=None, bootstrap=True \n",
            "[CV]  n_estimators=500, min_samples_split=5, min_samples_leaf=4, max_features=sqrt, max_depth=None, bootstrap=True, total= 1.3min\n",
            "[CV] n_estimators=500, min_samples_split=5, min_samples_leaf=4, max_features=sqrt, max_depth=None, bootstrap=True \n",
            "[CV]  n_estimators=500, min_samples_split=5, min_samples_leaf=4, max_features=sqrt, max_depth=None, bootstrap=True, total= 1.3min\n",
            "[CV] n_estimators=200, min_samples_split=10, min_samples_leaf=1, max_features=auto, max_depth=50, bootstrap=True \n",
            "[CV]  n_estimators=200, min_samples_split=10, min_samples_leaf=1, max_features=auto, max_depth=50, bootstrap=True, total= 1.5min\n",
            "[CV] n_estimators=200, min_samples_split=10, min_samples_leaf=1, max_features=auto, max_depth=50, bootstrap=True \n",
            "[CV]  n_estimators=200, min_samples_split=10, min_samples_leaf=1, max_features=auto, max_depth=50, bootstrap=True, total= 1.5min\n",
            "[CV] n_estimators=200, min_samples_split=10, min_samples_leaf=1, max_features=auto, max_depth=50, bootstrap=True \n",
            "[CV]  n_estimators=200, min_samples_split=10, min_samples_leaf=1, max_features=auto, max_depth=50, bootstrap=True, total= 1.5min\n",
            "[CV] n_estimators=200, min_samples_split=5, min_samples_leaf=4, max_features=auto, max_depth=30, bootstrap=True \n",
            "[CV]  n_estimators=200, min_samples_split=5, min_samples_leaf=4, max_features=auto, max_depth=30, bootstrap=True, total= 1.4min\n",
            "[CV] n_estimators=200, min_samples_split=5, min_samples_leaf=4, max_features=auto, max_depth=30, bootstrap=True \n",
            "[CV]  n_estimators=200, min_samples_split=5, min_samples_leaf=4, max_features=auto, max_depth=30, bootstrap=True, total= 1.4min\n",
            "[CV] n_estimators=200, min_samples_split=5, min_samples_leaf=4, max_features=auto, max_depth=30, bootstrap=True \n",
            "[CV]  n_estimators=200, min_samples_split=5, min_samples_leaf=4, max_features=auto, max_depth=30, bootstrap=True, total= 1.4min\n",
            "[CV] n_estimators=400, min_samples_split=5, min_samples_leaf=1, max_features=sqrt, max_depth=10, bootstrap=False \n",
            "[CV]  n_estimators=400, min_samples_split=5, min_samples_leaf=1, max_features=sqrt, max_depth=10, bootstrap=False, total=  55.2s\n",
            "[CV] n_estimators=400, min_samples_split=5, min_samples_leaf=1, max_features=sqrt, max_depth=10, bootstrap=False \n",
            "[CV]  n_estimators=400, min_samples_split=5, min_samples_leaf=1, max_features=sqrt, max_depth=10, bootstrap=False, total=  55.1s\n",
            "[CV] n_estimators=400, min_samples_split=5, min_samples_leaf=1, max_features=sqrt, max_depth=10, bootstrap=False \n",
            "[CV]  n_estimators=400, min_samples_split=5, min_samples_leaf=1, max_features=sqrt, max_depth=10, bootstrap=False, total=  55.2s\n",
            "[CV] n_estimators=500, min_samples_split=2, min_samples_leaf=2, max_features=sqrt, max_depth=40, bootstrap=True \n",
            "[CV]  n_estimators=500, min_samples_split=2, min_samples_leaf=2, max_features=sqrt, max_depth=40, bootstrap=True, total= 1.4min\n",
            "[CV] n_estimators=500, min_samples_split=2, min_samples_leaf=2, max_features=sqrt, max_depth=40, bootstrap=True \n",
            "[CV]  n_estimators=500, min_samples_split=2, min_samples_leaf=2, max_features=sqrt, max_depth=40, bootstrap=True, total= 1.4min\n",
            "[CV] n_estimators=500, min_samples_split=2, min_samples_leaf=2, max_features=sqrt, max_depth=40, bootstrap=True \n",
            "[CV]  n_estimators=500, min_samples_split=2, min_samples_leaf=2, max_features=sqrt, max_depth=40, bootstrap=True, total= 1.4min\n"
          ],
          "name": "stdout"
        },
        {
          "output_type": "stream",
          "text": [
            "[Parallel(n_jobs=1)]: Done  60 out of  60 | elapsed: 83.7min finished\n"
          ],
          "name": "stderr"
        },
        {
          "output_type": "execute_result",
          "data": {
            "text/plain": [
              "RandomizedSearchCV(cv=3, error_score=nan,\n",
              "                   estimator=RandomForestRegressor(bootstrap=True,\n",
              "                                                   ccp_alpha=0.0,\n",
              "                                                   criterion='mse',\n",
              "                                                   max_depth=None,\n",
              "                                                   max_features='auto',\n",
              "                                                   max_leaf_nodes=None,\n",
              "                                                   max_samples=None,\n",
              "                                                   min_impurity_decrease=0.0,\n",
              "                                                   min_impurity_split=None,\n",
              "                                                   min_samples_leaf=1,\n",
              "                                                   min_samples_split=2,\n",
              "                                                   min_weight_fraction_leaf=0.0,\n",
              "                                                   n_estimators=100,\n",
              "                                                   n_jobs=None, oob_score=Fals...\n",
              "                   iid='deprecated', n_iter=20, n_jobs=None,\n",
              "                   param_distributions={'bootstrap': [True, False],\n",
              "                                        'max_depth': [10, 20, 30, 40, 50, 60,\n",
              "                                                      70, 80, None],\n",
              "                                        'max_features': ['sqrt', 'auto'],\n",
              "                                        'min_samples_leaf': [1, 2, 4],\n",
              "                                        'min_samples_split': [2, 5, 10],\n",
              "                                        'n_estimators': [100, 200, 300, 400,\n",
              "                                                         500]},\n",
              "                   pre_dispatch='2*n_jobs', random_state=42, refit=True,\n",
              "                   return_train_score=True, scoring='neg_mean_absolute_error',\n",
              "                   verbose=2)"
            ]
          },
          "metadata": {
            "tags": []
          },
          "execution_count": 0
        }
      ]
    },
    {
      "cell_type": "code",
      "metadata": {
        "id": "b6pBUHepVHQi",
        "colab": {
          "base_uri": "https://localhost:8080/"
        },
        "outputId": "b81be9bd-63f7-46b8-e945-b1dda05cc4f5"
      },
      "source": [
        "rf_random.best_params_"
      ],
      "execution_count": 24,
      "outputs": [
        {
          "output_type": "execute_result",
          "data": {
            "text/plain": [
              "{'bootstrap': True,\n",
              " 'max_depth': None,\n",
              " 'max_features': 'sqrt',\n",
              " 'min_samples_leaf': 4,\n",
              " 'min_samples_split': 5,\n",
              " 'n_estimators': 500}"
            ]
          },
          "metadata": {
            "tags": []
          },
          "execution_count": 24
        }
      ]
    },
    {
      "cell_type": "code",
      "metadata": {
        "id": "koQ3Abn7xn23",
        "colab": {
          "base_uri": "https://localhost:8080/"
        },
        "outputId": "e386f036-afbf-45e7-80bb-986df509b0cd"
      },
      "source": [
        "rf1 = RandomForestRegressor(n_estimators = 500,max_depth=None,max_features='sqrt',min_samples_leaf=4,min_samples_split=5, random_state = 42)\r\n",
        "rf1.fit(X_train,y_train)\r\n"
      ],
      "execution_count": 25,
      "outputs": [
        {
          "output_type": "execute_result",
          "data": {
            "text/plain": [
              "RandomForestRegressor(bootstrap=True, ccp_alpha=0.0, criterion='mse',\n",
              "                      max_depth=None, max_features='sqrt', max_leaf_nodes=None,\n",
              "                      max_samples=None, min_impurity_decrease=0.0,\n",
              "                      min_impurity_split=None, min_samples_leaf=4,\n",
              "                      min_samples_split=5, min_weight_fraction_leaf=0.0,\n",
              "                      n_estimators=500, n_jobs=None, oob_score=False,\n",
              "                      random_state=42, verbose=0, warm_start=False)"
            ]
          },
          "metadata": {
            "tags": []
          },
          "execution_count": 25
        }
      ]
    },
    {
      "cell_type": "code",
      "metadata": {
        "id": "tpeKBzE5K6iP",
        "colab": {
          "base_uri": "https://localhost:8080/",
          "height": 235
        },
        "outputId": "7469a3cf-dfee-4518-f354-073aea7bba03"
      },
      "source": [
        "submission = pd.read_csv('/content/sample_submission.csv', index_col='id')\r\n",
        "display(submission.head())"
      ],
      "execution_count": 26,
      "outputs": [
        {
          "output_type": "display_data",
          "data": {
            "text/html": [
              "<div>\n",
              "<style scoped>\n",
              "    .dataframe tbody tr th:only-of-type {\n",
              "        vertical-align: middle;\n",
              "    }\n",
              "\n",
              "    .dataframe tbody tr th {\n",
              "        vertical-align: top;\n",
              "    }\n",
              "\n",
              "    .dataframe thead th {\n",
              "        text-align: right;\n",
              "    }\n",
              "</style>\n",
              "<table border=\"1\" class=\"dataframe\">\n",
              "  <thead>\n",
              "    <tr style=\"text-align: right;\">\n",
              "      <th></th>\n",
              "      <th>target</th>\n",
              "    </tr>\n",
              "    <tr>\n",
              "      <th>id</th>\n",
              "      <th></th>\n",
              "    </tr>\n",
              "  </thead>\n",
              "  <tbody>\n",
              "    <tr>\n",
              "      <th>0</th>\n",
              "      <td>0.5</td>\n",
              "    </tr>\n",
              "    <tr>\n",
              "      <th>2</th>\n",
              "      <td>0.5</td>\n",
              "    </tr>\n",
              "    <tr>\n",
              "      <th>6</th>\n",
              "      <td>0.5</td>\n",
              "    </tr>\n",
              "    <tr>\n",
              "      <th>7</th>\n",
              "      <td>0.5</td>\n",
              "    </tr>\n",
              "    <tr>\n",
              "      <th>10</th>\n",
              "      <td>0.5</td>\n",
              "    </tr>\n",
              "  </tbody>\n",
              "</table>\n",
              "</div>"
            ],
            "text/plain": [
              "    target\n",
              "id        \n",
              "0      0.5\n",
              "2      0.5\n",
              "6      0.5\n",
              "7      0.5\n",
              "10     0.5"
            ]
          },
          "metadata": {
            "tags": []
          }
        }
      ]
    },
    {
      "cell_type": "code",
      "metadata": {
        "id": "5nALHsnpSRDu"
      },
      "source": [
        "submission['target'] = rf1.predict(test_f)\r\n",
        "submission.to_csv('random_forest.csv')"
      ],
      "execution_count": 28,
      "outputs": []
    },
    {
      "cell_type": "code",
      "metadata": {
        "id": "sc-6MnoiSUUG",
        "colab": {
          "base_uri": "https://localhost:8080/"
        },
        "outputId": "28b1af29-2b28-4f58-8b0d-3712339c57d3"
      },
      "source": [
        "!kaggle competitions submit tabular-playground-series-jan-2021 -f random_forest.csv -m \"Using Random Forest\""
      ],
      "execution_count": 29,
      "outputs": [
        {
          "output_type": "stream",
          "text": [
            "100% 4.72M/4.72M [00:04<00:00, 1.08MB/s]\n",
            "Successfully submitted to Tabular Playground Series - Jan 2021"
          ],
          "name": "stdout"
        }
      ]
    },
    {
      "cell_type": "code",
      "metadata": {
        "id": "IRYmpI1kSnX4",
        "colab": {
          "base_uri": "https://localhost:8080/",
          "height": 235
        },
        "outputId": "ecb9d366-1f59-4764-d5bf-905573ac380c"
      },
      "source": [
        "submission.head()"
      ],
      "execution_count": 30,
      "outputs": [
        {
          "output_type": "execute_result",
          "data": {
            "text/html": [
              "<div>\n",
              "<style scoped>\n",
              "    .dataframe tbody tr th:only-of-type {\n",
              "        vertical-align: middle;\n",
              "    }\n",
              "\n",
              "    .dataframe tbody tr th {\n",
              "        vertical-align: top;\n",
              "    }\n",
              "\n",
              "    .dataframe thead th {\n",
              "        text-align: right;\n",
              "    }\n",
              "</style>\n",
              "<table border=\"1\" class=\"dataframe\">\n",
              "  <thead>\n",
              "    <tr style=\"text-align: right;\">\n",
              "      <th></th>\n",
              "      <th>target</th>\n",
              "    </tr>\n",
              "    <tr>\n",
              "      <th>id</th>\n",
              "      <th></th>\n",
              "    </tr>\n",
              "  </thead>\n",
              "  <tbody>\n",
              "    <tr>\n",
              "      <th>0</th>\n",
              "      <td>8.149846</td>\n",
              "    </tr>\n",
              "    <tr>\n",
              "      <th>2</th>\n",
              "      <td>7.778469</td>\n",
              "    </tr>\n",
              "    <tr>\n",
              "      <th>6</th>\n",
              "      <td>7.838436</td>\n",
              "    </tr>\n",
              "    <tr>\n",
              "      <th>7</th>\n",
              "      <td>8.196542</td>\n",
              "    </tr>\n",
              "    <tr>\n",
              "      <th>10</th>\n",
              "      <td>8.129824</td>\n",
              "    </tr>\n",
              "  </tbody>\n",
              "</table>\n",
              "</div>"
            ],
            "text/plain": [
              "      target\n",
              "id          \n",
              "0   8.149846\n",
              "2   7.778469\n",
              "6   7.838436\n",
              "7   8.196542\n",
              "10  8.129824"
            ]
          },
          "metadata": {
            "tags": []
          },
          "execution_count": 30
        }
      ]
    },
    {
      "cell_type": "code",
      "metadata": {
        "id": "A4mr3Bx9S3iH"
      },
      "source": [
        ""
      ],
      "execution_count": 23,
      "outputs": []
    }
  ]
}